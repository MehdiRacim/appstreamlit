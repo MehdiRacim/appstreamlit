{
 "cells": [
  {
   "cell_type": "code",
   "execution_count": 28,
   "metadata": {},
   "outputs": [],
   "source": [
    "import pandas as pd"
   ]
  },
  {
   "cell_type": "markdown",
   "metadata": {},
   "source": [
    "# Notebook 1 : Data Preparation\n"
   ]
  },
  {
   "cell_type": "markdown",
   "metadata": {},
   "source": [
    "## Objectif\n",
    "Ce notebook vise à préparer les données pour l'analyse et l'application. Nous allons :\n",
    "1. Charger les données brutes.\n",
    "2. Nettoyer et structurer les données.\n",
    "3. Exporter les données nettoyées.\n"
   ]
  },
  {
   "cell_type": "markdown",
   "metadata": {},
   "source": [
    "### 1. Charger les données brutes."
   ]
  },
  {
   "cell_type": "code",
   "execution_count": 29,
   "metadata": {},
   "outputs": [],
   "source": [
    "mortalité_infantille = pd.read_csv(\"data/raw/child-mortality.csv\")\n",
    "pib_habitant = pd.read_csv(\"data/raw/gdp-per-capita.csv\")\n",
    "depense_santé = pd.read_csv(\"data/raw/health-expenditure.csv\")\n",
    "espérance_vie = pd.read_csv(\"data/raw/life-expectancy.csv\")\n",
    "population = pd.read_csv(\"data/raw/population.csv\")\n",
    "lit_hopital = pd.read_csv(\"data/raw/hospital-beds-per-1000-people.csv\")\n",
    "densité_population = pd.read_csv(\"data/raw/population-density.csv\")"
   ]
  },
  {
   "cell_type": "markdown",
   "metadata": {},
   "source": [
    "### 2. nettoyer les données"
   ]
  },
  {
   "cell_type": "markdown",
   "metadata": {},
   "source": [
    "1. retrait de la colonne Code de tout les dataframes"
   ]
  },
  {
   "cell_type": "code",
   "execution_count": 30,
   "metadata": {},
   "outputs": [],
   "source": [
    "mortalité_infantille.drop(columns=['Code'], inplace=True)\n",
    "pib_habitant.drop(columns=['Code'], inplace=True)\n",
    "depense_santé.drop(columns=['Code'], inplace=True)\n",
    "espérance_vie.drop(columns=['Code'], inplace=True)\n",
    "population.drop(columns=['Code'], inplace=True)\n",
    "lit_hopital.drop(columns=['Code'], inplace=True)"
   ]
  },
  {
   "cell_type": "markdown",
   "metadata": {},
   "source": [
    "2. renommer les colonnes qui nous interresse "
   ]
  },
  {
   "cell_type": "code",
   "execution_count": 31,
   "metadata": {},
   "outputs": [],
   "source": [
    "mortalité_infantille.rename(columns={'Under-five mortality rate': 'Child Mortality'}, inplace=True)\n",
    "espérance_vie.rename(columns={'Period life expectancy at birth - Sex: total - Age: 0': 'Life Expectancy'}, inplace=True)\n",
    "pib_habitant.rename(columns={'GDP per capita, PPP (constant 2017 international $)': 'GDP per Capita'}, inplace=True)\n",
    "depense_santé.rename(columns={'public_health_expenditure_pc_gdp': 'Health Expenditure'}, inplace=True)\n",
    "population.rename(columns={'Population (historical)': 'population'}, inplace=True)\n",
    "lit_hopital.rename(columns={'Hospital beds (per 1,000 people)': 'Hospital Beds'}, inplace=True)\n",
    "densité_population.rename(columns={'Population density - Sex: all - Age: all - Variant: estimates': 'Population Density'}, inplace=True)"
   ]
  },
  {
   "cell_type": "markdown",
   "metadata": {},
   "source": [
    "3. fussionner les données dans un seul dataframe"
   ]
  },
  {
   "cell_type": "code",
   "execution_count": 32,
   "metadata": {},
   "outputs": [],
   "source": [
    "merged_data = pd.merge(mortalité_infantille, espérance_vie, on=['Entity', 'Year'], how='outer')\n",
    "merged_data = pd.merge(merged_data, pib_habitant, on=['Entity', 'Year'], how='outer')\n",
    "merged_data = pd.merge(merged_data, depense_santé, on=['Entity', 'Year'], how='outer')\n",
    "merged_data = pd.merge(merged_data, population, on=['Entity', 'Year'], how='outer')\n",
    "merged_data = pd.merge(merged_data, lit_hopital, on=['Entity', 'Year'], how='outer')\n",
    "merged_data = pd.merge(merged_data, densité_population, on=['Entity', 'Year'], how='outer')"
   ]
  },
  {
   "cell_type": "markdown",
   "metadata": {},
   "source": [
    "4. garder que les années >= 1960"
   ]
  },
  {
   "cell_type": "code",
   "execution_count": 33,
   "metadata": {},
   "outputs": [],
   "source": [
    "merged_data = merged_data[merged_data['Year'] >= 1960] "
   ]
  },
  {
   "cell_type": "code",
   "execution_count": 34,
   "metadata": {},
   "outputs": [
    {
     "name": "stdout",
     "output_type": "stream",
     "text": [
      "Entity                    0\n",
      "Year                      0\n",
      "Child Mortality        5735\n",
      "Life Expectancy        2125\n",
      "GDP per Capita        12267\n",
      "Health Expenditure    16759\n",
      "population             1910\n",
      "Hospital Beds         13704\n",
      "Population Density     2637\n",
      "dtype: int64\n"
     ]
    }
   ],
   "source": [
    "print(merged_data.isnull().sum())"
   ]
  },
  {
   "cell_type": "markdown",
   "metadata": {},
   "source": [
    "5. Remplacer les valeurs manquante par la mediane ou la moyenne (selon nos besoin)"
   ]
  },
  {
   "cell_type": "markdown",
   "metadata": {},
   "source": [
    "6. rennomer les colonnes pour que ca soit plus coherrent "
   ]
  },
  {
   "cell_type": "code",
   "execution_count": 35,
   "metadata": {},
   "outputs": [],
   "source": [
    "merged_data.rename(columns={\n",
    "    'Entity': 'Country',\n",
    "}, inplace=True)"
   ]
  },
  {
   "cell_type": "code",
   "execution_count": null,
   "metadata": {},
   "outputs": [
    {
     "data": {
      "text/html": [
       "<div>\n",
       "<style scoped>\n",
       "    .dataframe tbody tr th:only-of-type {\n",
       "        vertical-align: middle;\n",
       "    }\n",
       "\n",
       "    .dataframe tbody tr th {\n",
       "        vertical-align: top;\n",
       "    }\n",
       "\n",
       "    .dataframe thead th {\n",
       "        text-align: right;\n",
       "    }\n",
       "</style>\n",
       "<table border=\"1\" class=\"dataframe\">\n",
       "  <thead>\n",
       "    <tr style=\"text-align: right;\">\n",
       "      <th></th>\n",
       "      <th>Country</th>\n",
       "      <th>Year</th>\n",
       "      <th>Child Mortality</th>\n",
       "      <th>Life Expectancy</th>\n",
       "      <th>GDP per Capita</th>\n",
       "      <th>Health Expenditure</th>\n",
       "      <th>population</th>\n",
       "      <th>Hospital Beds</th>\n",
       "      <th>Population Density</th>\n",
       "    </tr>\n",
       "  </thead>\n",
       "  <tbody>\n",
       "    <tr>\n",
       "      <th>197</th>\n",
       "      <td>Afghanistan</td>\n",
       "      <td>1960</td>\n",
       "      <td>35.459850</td>\n",
       "      <td>32.7987</td>\n",
       "      <td>NaN</td>\n",
       "      <td>NaN</td>\n",
       "      <td>9035048.0</td>\n",
       "      <td>0.170627</td>\n",
       "      <td>13.915</td>\n",
       "    </tr>\n",
       "    <tr>\n",
       "      <th>198</th>\n",
       "      <td>Afghanistan</td>\n",
       "      <td>1961</td>\n",
       "      <td>34.894880</td>\n",
       "      <td>33.2910</td>\n",
       "      <td>NaN</td>\n",
       "      <td>NaN</td>\n",
       "      <td>9214082.0</td>\n",
       "      <td>NaN</td>\n",
       "      <td>14.191</td>\n",
       "    </tr>\n",
       "    <tr>\n",
       "      <th>199</th>\n",
       "      <td>Afghanistan</td>\n",
       "      <td>1962</td>\n",
       "      <td>34.369637</td>\n",
       "      <td>33.7565</td>\n",
       "      <td>NaN</td>\n",
       "      <td>NaN</td>\n",
       "      <td>9404411.0</td>\n",
       "      <td>NaN</td>\n",
       "      <td>14.484</td>\n",
       "    </tr>\n",
       "    <tr>\n",
       "      <th>200</th>\n",
       "      <td>Afghanistan</td>\n",
       "      <td>1963</td>\n",
       "      <td>33.836605</td>\n",
       "      <td>34.2008</td>\n",
       "      <td>NaN</td>\n",
       "      <td>NaN</td>\n",
       "      <td>9604491.0</td>\n",
       "      <td>NaN</td>\n",
       "      <td>14.792</td>\n",
       "    </tr>\n",
       "    <tr>\n",
       "      <th>201</th>\n",
       "      <td>Afghanistan</td>\n",
       "      <td>1964</td>\n",
       "      <td>33.310510</td>\n",
       "      <td>34.6726</td>\n",
       "      <td>NaN</td>\n",
       "      <td>NaN</td>\n",
       "      <td>9814318.0</td>\n",
       "      <td>NaN</td>\n",
       "      <td>15.115</td>\n",
       "    </tr>\n",
       "    <tr>\n",
       "      <th>...</th>\n",
       "      <td>...</td>\n",
       "      <td>...</td>\n",
       "      <td>...</td>\n",
       "      <td>...</td>\n",
       "      <td>...</td>\n",
       "      <td>...</td>\n",
       "      <td>...</td>\n",
       "      <td>...</td>\n",
       "      <td>...</td>\n",
       "    </tr>\n",
       "    <tr>\n",
       "      <th>61581</th>\n",
       "      <td>Zimbabwe</td>\n",
       "      <td>2019</td>\n",
       "      <td>5.237655</td>\n",
       "      <td>61.0603</td>\n",
       "      <td>2203.3967</td>\n",
       "      <td>NaN</td>\n",
       "      <td>15271377.0</td>\n",
       "      <td>NaN</td>\n",
       "      <td>39.476</td>\n",
       "    </tr>\n",
       "    <tr>\n",
       "      <th>61582</th>\n",
       "      <td>Zimbabwe</td>\n",
       "      <td>2020</td>\n",
       "      <td>5.143166</td>\n",
       "      <td>61.5300</td>\n",
       "      <td>1990.3195</td>\n",
       "      <td>NaN</td>\n",
       "      <td>15526888.0</td>\n",
       "      <td>NaN</td>\n",
       "      <td>40.137</td>\n",
       "    </tr>\n",
       "    <tr>\n",
       "      <th>61583</th>\n",
       "      <td>Zimbabwe</td>\n",
       "      <td>2021</td>\n",
       "      <td>4.908745</td>\n",
       "      <td>60.1347</td>\n",
       "      <td>2115.1445</td>\n",
       "      <td>NaN</td>\n",
       "      <td>15797220.0</td>\n",
       "      <td>NaN</td>\n",
       "      <td>40.835</td>\n",
       "    </tr>\n",
       "    <tr>\n",
       "      <th>61584</th>\n",
       "      <td>Zimbabwe</td>\n",
       "      <td>2022</td>\n",
       "      <td>4.772906</td>\n",
       "      <td>62.3601</td>\n",
       "      <td>2207.9570</td>\n",
       "      <td>NaN</td>\n",
       "      <td>16069061.0</td>\n",
       "      <td>NaN</td>\n",
       "      <td>41.538</td>\n",
       "    </tr>\n",
       "    <tr>\n",
       "      <th>61585</th>\n",
       "      <td>Zimbabwe</td>\n",
       "      <td>2023</td>\n",
       "      <td>NaN</td>\n",
       "      <td>62.7748</td>\n",
       "      <td>NaN</td>\n",
       "      <td>NaN</td>\n",
       "      <td>16340829.0</td>\n",
       "      <td>NaN</td>\n",
       "      <td>42.241</td>\n",
       "    </tr>\n",
       "  </tbody>\n",
       "</table>\n",
       "<p>18829 rows × 9 columns</p>\n",
       "</div>"
      ],
      "text/plain": [
       "           Country  Year  Child Mortality  Life Expectancy  GDP per Capita  \\\n",
       "197    Afghanistan  1960        35.459850          32.7987             NaN   \n",
       "198    Afghanistan  1961        34.894880          33.2910             NaN   \n",
       "199    Afghanistan  1962        34.369637          33.7565             NaN   \n",
       "200    Afghanistan  1963        33.836605          34.2008             NaN   \n",
       "201    Afghanistan  1964        33.310510          34.6726             NaN   \n",
       "...            ...   ...              ...              ...             ...   \n",
       "61581     Zimbabwe  2019         5.237655          61.0603       2203.3967   \n",
       "61582     Zimbabwe  2020         5.143166          61.5300       1990.3195   \n",
       "61583     Zimbabwe  2021         4.908745          60.1347       2115.1445   \n",
       "61584     Zimbabwe  2022         4.772906          62.3601       2207.9570   \n",
       "61585     Zimbabwe  2023              NaN          62.7748             NaN   \n",
       "\n",
       "       Health Expenditure  population  Hospital Beds  Population Density  \n",
       "197                   NaN   9035048.0       0.170627              13.915  \n",
       "198                   NaN   9214082.0            NaN              14.191  \n",
       "199                   NaN   9404411.0            NaN              14.484  \n",
       "200                   NaN   9604491.0            NaN              14.792  \n",
       "201                   NaN   9814318.0            NaN              15.115  \n",
       "...                   ...         ...            ...                 ...  \n",
       "61581                 NaN  15271377.0            NaN              39.476  \n",
       "61582                 NaN  15526888.0            NaN              40.137  \n",
       "61583                 NaN  15797220.0            NaN              40.835  \n",
       "61584                 NaN  16069061.0            NaN              41.538  \n",
       "61585                 NaN  16340829.0            NaN              42.241  \n",
       "\n",
       "[18829 rows x 9 columns]"
      ]
     },
     "execution_count": 32,
     "metadata": {},
     "output_type": "execute_result"
    }
   ],
   "source": [
    "merged_data"
   ]
  },
  {
   "cell_type": "markdown",
   "metadata": {},
   "source": [
    "### 3. exporter le dataframe"
   ]
  },
  {
   "cell_type": "code",
   "execution_count": null,
   "metadata": {},
   "outputs": [],
   "source": [
    "merged_data.to_csv('data/clean/cleaned_data.csv', index=False)"
   ]
  }
 ],
 "metadata": {
  "kernelspec": {
   "display_name": "base",
   "language": "python",
   "name": "python3"
  },
  "language_info": {
   "codemirror_mode": {
    "name": "ipython",
    "version": 3
   },
   "file_extension": ".py",
   "mimetype": "text/x-python",
   "name": "python",
   "nbconvert_exporter": "python",
   "pygments_lexer": "ipython3",
   "version": "3.12.7"
  }
 },
 "nbformat": 4,
 "nbformat_minor": 2
}
